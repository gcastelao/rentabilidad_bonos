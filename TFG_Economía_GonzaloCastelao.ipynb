{
  "nbformat": 4,
  "nbformat_minor": 0,
  "metadata": {
    "colab": {
      "name": "TFG-Economía_GonzaloCastelao.ipynb",
      "provenance": [],
      "collapsed_sections": [],
      "include_colab_link": true
    },
    "kernelspec": {
      "name": "python3",
      "display_name": "Python 3"
    },
    "language_info": {
      "name": "python"
    }
  },
  "cells": [
    {
      "cell_type": "markdown",
      "metadata": {
        "id": "view-in-github",
        "colab_type": "text"
      },
      "source": [
        "<a href=\"https://colab.research.google.com/github/gcastelao/rentabilidad_bonos/blob/main/TFG_Econom%C3%ADa_GonzaloCastelao.ipynb\" target=\"_parent\"><img src=\"https://colab.research.google.com/assets/colab-badge.svg\" alt=\"Open In Colab\"/></a>"
      ]
    },
    {
      "cell_type": "code",
      "source": [
        "pip install numpy-financial"
      ],
      "metadata": {
        "id": "9Bxe_9100HAc",
        "outputId": "cfdf82ee-b8e7-4409-9357-04a25f255144",
        "colab": {
          "base_uri": "https://localhost:8080/"
        }
      },
      "execution_count": 2,
      "outputs": [
        {
          "output_type": "stream",
          "name": "stdout",
          "text": [
            "Requirement already satisfied: numpy-financial in /usr/local/lib/python3.7/dist-packages (1.0.0)\n",
            "Requirement already satisfied: numpy>=1.15 in /usr/local/lib/python3.7/dist-packages (from numpy-financial) (1.21.5)\n"
          ]
        }
      ]
    },
    {
      "cell_type": "code",
      "source": [
        "import numpy_financial as npf\n",
        "\n",
        "# DATOS\n",
        "nominal = 10_000\n",
        "cupon = .1\n",
        "n = 10 # años\n",
        "precio = 10_000\n",
        "\n",
        "# Flujos de caja del bono\n",
        "cf = [0]*(n+1)\n",
        "for i in range(1,n+1):\n",
        "    cf[i] = cupon * nominal\n",
        "cf[n] += nominal\n",
        "cf[0] = -precio\n",
        "\n",
        "print(f\"La TIR del bono es: {npf.irr(cf):.2%}\")\n",
        "\n",
        "# Montante de la Reinversión\n",
        "def montante(cf,r):\n",
        "    m = 0 # montante\n",
        "    for i in range(1, n+1):\n",
        "        m += cf[i]*(1+r)**(n-i)\n",
        "    return m\n",
        "\n",
        "tasas_reinversion = [0,.1,.2]\n",
        "for t in tasas_reinversion:\n",
        "    m = montante(cf,t)\n",
        "    print()\n",
        "    print(f\"El montante reinvirtiendo al tanto del {t:.0%} es {m:,.2f} €\")\n",
        "    print(f\"La rentabilidad del inversor reinvirtiendo al tanto {t:.0%} es {(m/precio)**(1/n)-1:.2%}\")"
      ],
      "metadata": {
        "id": "n6mxKhMZ69qn",
        "outputId": "475c61b6-13d1-4bb1-ad3d-72fd0dbd517a",
        "colab": {
          "base_uri": "https://localhost:8080/"
        }
      },
      "execution_count": null,
      "outputs": [
        {
          "output_type": "stream",
          "name": "stdout",
          "text": [
            "La TIR del bono es: 10.00%\n",
            "\n",
            "El montante reinvirtiendo al tanto del 0% es 20,000.00 €\n",
            "La rentabilidad del inversor reinvirtiendo al tanto 0% es 7.18%\n",
            "\n",
            "El montante reinvirtiendo al tanto del 10% es 25,937.42 €\n",
            "La rentabilidad del inversor reinvirtiendo al tanto 10% es 10.00%\n",
            "\n",
            "El montante reinvirtiendo al tanto del 20% es 35,958.68 €\n",
            "La rentabilidad del inversor reinvirtiendo al tanto 20% es 13.65%\n"
          ]
        }
      ]
    }
  ]
}